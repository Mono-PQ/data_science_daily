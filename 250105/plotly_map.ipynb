{
 "cells": [
  {
   "cell_type": "markdown",
   "metadata": {},
   "source": [
    "# Plotting map using a GeoJSON file\n",
    "\n",
    "- Reading geojson file into a pandas dataframe\n",
    "- Using plotly open source library for plotting the map of hawker centres in Singapore"
   ]
  },
  {
   "cell_type": "code",
   "execution_count": 3,
   "metadata": {},
   "outputs": [],
   "source": [
    "import pandas as pd \n",
    "import plotly.express as px \n",
    "import geopandas as gpd"
   ]
  },
  {
   "cell_type": "code",
   "execution_count": 5,
   "metadata": {},
   "outputs": [],
   "source": [
    "file_path = \"../data/HawkerCentresGEOJSON.geojson\"\n",
    "gdf = gpd.read_file(file_path)\n",
    "\n",
    "# Extract latitude and longitude from geometry column \n",
    "gdf['lon'] = gdf.geometry.x\n",
    "gdf['lat'] = gdf.geometry.y\n",
    "\n",
    "# Convert to pandas dataframe\n",
    "df = gdf.drop(columns='geometry')"
   ]
  },
  {
   "cell_type": "code",
   "execution_count": null,
   "metadata": {},
   "outputs": [
    {
     "name": "stderr",
     "output_type": "stream",
     "text": [
      "/var/folders/b3/3sxmjwh95_n18bf__pwfsbnw0000gn/T/ipykernel_1816/4147824934.py:5: FutureWarning:\n",
      "\n",
      "Passing literal html to 'read_html' is deprecated and will be removed in a future version. To read from a literal string, wrap it in a 'StringIO' object.\n",
      "\n",
      "/var/folders/b3/3sxmjwh95_n18bf__pwfsbnw0000gn/T/ipykernel_1816/4147824934.py:5: FutureWarning:\n",
      "\n",
      "Passing literal html to 'read_html' is deprecated and will be removed in a future version. To read from a literal string, wrap it in a 'StringIO' object.\n",
      "\n",
      "/var/folders/b3/3sxmjwh95_n18bf__pwfsbnw0000gn/T/ipykernel_1816/4147824934.py:5: FutureWarning:\n",
      "\n",
      "Passing literal html to 'read_html' is deprecated and will be removed in a future version. To read from a literal string, wrap it in a 'StringIO' object.\n",
      "\n",
      "/var/folders/b3/3sxmjwh95_n18bf__pwfsbnw0000gn/T/ipykernel_1816/4147824934.py:5: FutureWarning:\n",
      "\n",
      "Passing literal html to 'read_html' is deprecated and will be removed in a future version. To read from a literal string, wrap it in a 'StringIO' object.\n",
      "\n",
      "/var/folders/b3/3sxmjwh95_n18bf__pwfsbnw0000gn/T/ipykernel_1816/4147824934.py:5: FutureWarning:\n",
      "\n",
      "Passing literal html to 'read_html' is deprecated and will be removed in a future version. To read from a literal string, wrap it in a 'StringIO' object.\n",
      "\n",
      "/var/folders/b3/3sxmjwh95_n18bf__pwfsbnw0000gn/T/ipykernel_1816/4147824934.py:5: FutureWarning:\n",
      "\n",
      "Passing literal html to 'read_html' is deprecated and will be removed in a future version. To read from a literal string, wrap it in a 'StringIO' object.\n",
      "\n",
      "/var/folders/b3/3sxmjwh95_n18bf__pwfsbnw0000gn/T/ipykernel_1816/4147824934.py:5: FutureWarning:\n",
      "\n",
      "Passing literal html to 'read_html' is deprecated and will be removed in a future version. To read from a literal string, wrap it in a 'StringIO' object.\n",
      "\n",
      "/var/folders/b3/3sxmjwh95_n18bf__pwfsbnw0000gn/T/ipykernel_1816/4147824934.py:5: FutureWarning:\n",
      "\n",
      "Passing literal html to 'read_html' is deprecated and will be removed in a future version. To read from a literal string, wrap it in a 'StringIO' object.\n",
      "\n",
      "/var/folders/b3/3sxmjwh95_n18bf__pwfsbnw0000gn/T/ipykernel_1816/4147824934.py:5: FutureWarning:\n",
      "\n",
      "Passing literal html to 'read_html' is deprecated and will be removed in a future version. To read from a literal string, wrap it in a 'StringIO' object.\n",
      "\n",
      "/var/folders/b3/3sxmjwh95_n18bf__pwfsbnw0000gn/T/ipykernel_1816/4147824934.py:5: FutureWarning:\n",
      "\n",
      "Passing literal html to 'read_html' is deprecated and will be removed in a future version. To read from a literal string, wrap it in a 'StringIO' object.\n",
      "\n",
      "/var/folders/b3/3sxmjwh95_n18bf__pwfsbnw0000gn/T/ipykernel_1816/4147824934.py:5: FutureWarning:\n",
      "\n",
      "Passing literal html to 'read_html' is deprecated and will be removed in a future version. To read from a literal string, wrap it in a 'StringIO' object.\n",
      "\n",
      "/var/folders/b3/3sxmjwh95_n18bf__pwfsbnw0000gn/T/ipykernel_1816/4147824934.py:5: FutureWarning:\n",
      "\n",
      "Passing literal html to 'read_html' is deprecated and will be removed in a future version. To read from a literal string, wrap it in a 'StringIO' object.\n",
      "\n",
      "/var/folders/b3/3sxmjwh95_n18bf__pwfsbnw0000gn/T/ipykernel_1816/4147824934.py:5: FutureWarning:\n",
      "\n",
      "Passing literal html to 'read_html' is deprecated and will be removed in a future version. To read from a literal string, wrap it in a 'StringIO' object.\n",
      "\n",
      "/var/folders/b3/3sxmjwh95_n18bf__pwfsbnw0000gn/T/ipykernel_1816/4147824934.py:5: FutureWarning:\n",
      "\n",
      "Passing literal html to 'read_html' is deprecated and will be removed in a future version. To read from a literal string, wrap it in a 'StringIO' object.\n",
      "\n",
      "/var/folders/b3/3sxmjwh95_n18bf__pwfsbnw0000gn/T/ipykernel_1816/4147824934.py:5: FutureWarning:\n",
      "\n",
      "Passing literal html to 'read_html' is deprecated and will be removed in a future version. To read from a literal string, wrap it in a 'StringIO' object.\n",
      "\n",
      "/var/folders/b3/3sxmjwh95_n18bf__pwfsbnw0000gn/T/ipykernel_1816/4147824934.py:5: FutureWarning:\n",
      "\n",
      "Passing literal html to 'read_html' is deprecated and will be removed in a future version. To read from a literal string, wrap it in a 'StringIO' object.\n",
      "\n",
      "/var/folders/b3/3sxmjwh95_n18bf__pwfsbnw0000gn/T/ipykernel_1816/4147824934.py:5: FutureWarning:\n",
      "\n",
      "Passing literal html to 'read_html' is deprecated and will be removed in a future version. To read from a literal string, wrap it in a 'StringIO' object.\n",
      "\n",
      "/var/folders/b3/3sxmjwh95_n18bf__pwfsbnw0000gn/T/ipykernel_1816/4147824934.py:5: FutureWarning:\n",
      "\n",
      "Passing literal html to 'read_html' is deprecated and will be removed in a future version. To read from a literal string, wrap it in a 'StringIO' object.\n",
      "\n",
      "/var/folders/b3/3sxmjwh95_n18bf__pwfsbnw0000gn/T/ipykernel_1816/4147824934.py:5: FutureWarning:\n",
      "\n",
      "Passing literal html to 'read_html' is deprecated and will be removed in a future version. To read from a literal string, wrap it in a 'StringIO' object.\n",
      "\n",
      "/var/folders/b3/3sxmjwh95_n18bf__pwfsbnw0000gn/T/ipykernel_1816/4147824934.py:5: FutureWarning:\n",
      "\n",
      "Passing literal html to 'read_html' is deprecated and will be removed in a future version. To read from a literal string, wrap it in a 'StringIO' object.\n",
      "\n",
      "/var/folders/b3/3sxmjwh95_n18bf__pwfsbnw0000gn/T/ipykernel_1816/4147824934.py:5: FutureWarning:\n",
      "\n",
      "Passing literal html to 'read_html' is deprecated and will be removed in a future version. To read from a literal string, wrap it in a 'StringIO' object.\n",
      "\n",
      "/var/folders/b3/3sxmjwh95_n18bf__pwfsbnw0000gn/T/ipykernel_1816/4147824934.py:5: FutureWarning:\n",
      "\n",
      "Passing literal html to 'read_html' is deprecated and will be removed in a future version. To read from a literal string, wrap it in a 'StringIO' object.\n",
      "\n",
      "/var/folders/b3/3sxmjwh95_n18bf__pwfsbnw0000gn/T/ipykernel_1816/4147824934.py:5: FutureWarning:\n",
      "\n",
      "Passing literal html to 'read_html' is deprecated and will be removed in a future version. To read from a literal string, wrap it in a 'StringIO' object.\n",
      "\n",
      "/var/folders/b3/3sxmjwh95_n18bf__pwfsbnw0000gn/T/ipykernel_1816/4147824934.py:5: FutureWarning:\n",
      "\n",
      "Passing literal html to 'read_html' is deprecated and will be removed in a future version. To read from a literal string, wrap it in a 'StringIO' object.\n",
      "\n",
      "/var/folders/b3/3sxmjwh95_n18bf__pwfsbnw0000gn/T/ipykernel_1816/4147824934.py:5: FutureWarning:\n",
      "\n",
      "Passing literal html to 'read_html' is deprecated and will be removed in a future version. To read from a literal string, wrap it in a 'StringIO' object.\n",
      "\n",
      "/var/folders/b3/3sxmjwh95_n18bf__pwfsbnw0000gn/T/ipykernel_1816/4147824934.py:5: FutureWarning:\n",
      "\n",
      "Passing literal html to 'read_html' is deprecated and will be removed in a future version. To read from a literal string, wrap it in a 'StringIO' object.\n",
      "\n",
      "/var/folders/b3/3sxmjwh95_n18bf__pwfsbnw0000gn/T/ipykernel_1816/4147824934.py:5: FutureWarning:\n",
      "\n",
      "Passing literal html to 'read_html' is deprecated and will be removed in a future version. To read from a literal string, wrap it in a 'StringIO' object.\n",
      "\n",
      "/var/folders/b3/3sxmjwh95_n18bf__pwfsbnw0000gn/T/ipykernel_1816/4147824934.py:5: FutureWarning:\n",
      "\n",
      "Passing literal html to 'read_html' is deprecated and will be removed in a future version. To read from a literal string, wrap it in a 'StringIO' object.\n",
      "\n",
      "/var/folders/b3/3sxmjwh95_n18bf__pwfsbnw0000gn/T/ipykernel_1816/4147824934.py:5: FutureWarning:\n",
      "\n",
      "Passing literal html to 'read_html' is deprecated and will be removed in a future version. To read from a literal string, wrap it in a 'StringIO' object.\n",
      "\n",
      "/var/folders/b3/3sxmjwh95_n18bf__pwfsbnw0000gn/T/ipykernel_1816/4147824934.py:5: FutureWarning:\n",
      "\n",
      "Passing literal html to 'read_html' is deprecated and will be removed in a future version. To read from a literal string, wrap it in a 'StringIO' object.\n",
      "\n",
      "/var/folders/b3/3sxmjwh95_n18bf__pwfsbnw0000gn/T/ipykernel_1816/4147824934.py:5: FutureWarning:\n",
      "\n",
      "Passing literal html to 'read_html' is deprecated and will be removed in a future version. To read from a literal string, wrap it in a 'StringIO' object.\n",
      "\n",
      "/var/folders/b3/3sxmjwh95_n18bf__pwfsbnw0000gn/T/ipykernel_1816/4147824934.py:5: FutureWarning:\n",
      "\n",
      "Passing literal html to 'read_html' is deprecated and will be removed in a future version. To read from a literal string, wrap it in a 'StringIO' object.\n",
      "\n",
      "/var/folders/b3/3sxmjwh95_n18bf__pwfsbnw0000gn/T/ipykernel_1816/4147824934.py:5: FutureWarning:\n",
      "\n",
      "Passing literal html to 'read_html' is deprecated and will be removed in a future version. To read from a literal string, wrap it in a 'StringIO' object.\n",
      "\n",
      "/var/folders/b3/3sxmjwh95_n18bf__pwfsbnw0000gn/T/ipykernel_1816/4147824934.py:5: FutureWarning:\n",
      "\n",
      "Passing literal html to 'read_html' is deprecated and will be removed in a future version. To read from a literal string, wrap it in a 'StringIO' object.\n",
      "\n",
      "/var/folders/b3/3sxmjwh95_n18bf__pwfsbnw0000gn/T/ipykernel_1816/4147824934.py:5: FutureWarning:\n",
      "\n",
      "Passing literal html to 'read_html' is deprecated and will be removed in a future version. To read from a literal string, wrap it in a 'StringIO' object.\n",
      "\n",
      "/var/folders/b3/3sxmjwh95_n18bf__pwfsbnw0000gn/T/ipykernel_1816/4147824934.py:5: FutureWarning:\n",
      "\n",
      "Passing literal html to 'read_html' is deprecated and will be removed in a future version. To read from a literal string, wrap it in a 'StringIO' object.\n",
      "\n",
      "/var/folders/b3/3sxmjwh95_n18bf__pwfsbnw0000gn/T/ipykernel_1816/4147824934.py:5: FutureWarning:\n",
      "\n",
      "Passing literal html to 'read_html' is deprecated and will be removed in a future version. To read from a literal string, wrap it in a 'StringIO' object.\n",
      "\n",
      "/var/folders/b3/3sxmjwh95_n18bf__pwfsbnw0000gn/T/ipykernel_1816/4147824934.py:5: FutureWarning:\n",
      "\n",
      "Passing literal html to 'read_html' is deprecated and will be removed in a future version. To read from a literal string, wrap it in a 'StringIO' object.\n",
      "\n",
      "/var/folders/b3/3sxmjwh95_n18bf__pwfsbnw0000gn/T/ipykernel_1816/4147824934.py:5: FutureWarning:\n",
      "\n",
      "Passing literal html to 'read_html' is deprecated and will be removed in a future version. To read from a literal string, wrap it in a 'StringIO' object.\n",
      "\n",
      "/var/folders/b3/3sxmjwh95_n18bf__pwfsbnw0000gn/T/ipykernel_1816/4147824934.py:5: FutureWarning:\n",
      "\n",
      "Passing literal html to 'read_html' is deprecated and will be removed in a future version. To read from a literal string, wrap it in a 'StringIO' object.\n",
      "\n",
      "/var/folders/b3/3sxmjwh95_n18bf__pwfsbnw0000gn/T/ipykernel_1816/4147824934.py:5: FutureWarning:\n",
      "\n",
      "Passing literal html to 'read_html' is deprecated and will be removed in a future version. To read from a literal string, wrap it in a 'StringIO' object.\n",
      "\n",
      "/var/folders/b3/3sxmjwh95_n18bf__pwfsbnw0000gn/T/ipykernel_1816/4147824934.py:5: FutureWarning:\n",
      "\n",
      "Passing literal html to 'read_html' is deprecated and will be removed in a future version. To read from a literal string, wrap it in a 'StringIO' object.\n",
      "\n",
      "/var/folders/b3/3sxmjwh95_n18bf__pwfsbnw0000gn/T/ipykernel_1816/4147824934.py:5: FutureWarning:\n",
      "\n",
      "Passing literal html to 'read_html' is deprecated and will be removed in a future version. To read from a literal string, wrap it in a 'StringIO' object.\n",
      "\n",
      "/var/folders/b3/3sxmjwh95_n18bf__pwfsbnw0000gn/T/ipykernel_1816/4147824934.py:5: FutureWarning:\n",
      "\n",
      "Passing literal html to 'read_html' is deprecated and will be removed in a future version. To read from a literal string, wrap it in a 'StringIO' object.\n",
      "\n",
      "/var/folders/b3/3sxmjwh95_n18bf__pwfsbnw0000gn/T/ipykernel_1816/4147824934.py:5: FutureWarning:\n",
      "\n",
      "Passing literal html to 'read_html' is deprecated and will be removed in a future version. To read from a literal string, wrap it in a 'StringIO' object.\n",
      "\n",
      "/var/folders/b3/3sxmjwh95_n18bf__pwfsbnw0000gn/T/ipykernel_1816/4147824934.py:5: FutureWarning:\n",
      "\n",
      "Passing literal html to 'read_html' is deprecated and will be removed in a future version. To read from a literal string, wrap it in a 'StringIO' object.\n",
      "\n",
      "/var/folders/b3/3sxmjwh95_n18bf__pwfsbnw0000gn/T/ipykernel_1816/4147824934.py:5: FutureWarning:\n",
      "\n",
      "Passing literal html to 'read_html' is deprecated and will be removed in a future version. To read from a literal string, wrap it in a 'StringIO' object.\n",
      "\n",
      "/var/folders/b3/3sxmjwh95_n18bf__pwfsbnw0000gn/T/ipykernel_1816/4147824934.py:5: FutureWarning:\n",
      "\n",
      "Passing literal html to 'read_html' is deprecated and will be removed in a future version. To read from a literal string, wrap it in a 'StringIO' object.\n",
      "\n",
      "/var/folders/b3/3sxmjwh95_n18bf__pwfsbnw0000gn/T/ipykernel_1816/4147824934.py:5: FutureWarning:\n",
      "\n",
      "Passing literal html to 'read_html' is deprecated and will be removed in a future version. To read from a literal string, wrap it in a 'StringIO' object.\n",
      "\n",
      "/var/folders/b3/3sxmjwh95_n18bf__pwfsbnw0000gn/T/ipykernel_1816/4147824934.py:5: FutureWarning:\n",
      "\n",
      "Passing literal html to 'read_html' is deprecated and will be removed in a future version. To read from a literal string, wrap it in a 'StringIO' object.\n",
      "\n",
      "/var/folders/b3/3sxmjwh95_n18bf__pwfsbnw0000gn/T/ipykernel_1816/4147824934.py:5: FutureWarning:\n",
      "\n",
      "Passing literal html to 'read_html' is deprecated and will be removed in a future version. To read from a literal string, wrap it in a 'StringIO' object.\n",
      "\n",
      "/var/folders/b3/3sxmjwh95_n18bf__pwfsbnw0000gn/T/ipykernel_1816/4147824934.py:5: FutureWarning:\n",
      "\n",
      "Passing literal html to 'read_html' is deprecated and will be removed in a future version. To read from a literal string, wrap it in a 'StringIO' object.\n",
      "\n",
      "/var/folders/b3/3sxmjwh95_n18bf__pwfsbnw0000gn/T/ipykernel_1816/4147824934.py:5: FutureWarning:\n",
      "\n",
      "Passing literal html to 'read_html' is deprecated and will be removed in a future version. To read from a literal string, wrap it in a 'StringIO' object.\n",
      "\n",
      "/var/folders/b3/3sxmjwh95_n18bf__pwfsbnw0000gn/T/ipykernel_1816/4147824934.py:5: FutureWarning:\n",
      "\n",
      "Passing literal html to 'read_html' is deprecated and will be removed in a future version. To read from a literal string, wrap it in a 'StringIO' object.\n",
      "\n",
      "/var/folders/b3/3sxmjwh95_n18bf__pwfsbnw0000gn/T/ipykernel_1816/4147824934.py:5: FutureWarning:\n",
      "\n",
      "Passing literal html to 'read_html' is deprecated and will be removed in a future version. To read from a literal string, wrap it in a 'StringIO' object.\n",
      "\n",
      "/var/folders/b3/3sxmjwh95_n18bf__pwfsbnw0000gn/T/ipykernel_1816/4147824934.py:5: FutureWarning:\n",
      "\n",
      "Passing literal html to 'read_html' is deprecated and will be removed in a future version. To read from a literal string, wrap it in a 'StringIO' object.\n",
      "\n",
      "/var/folders/b3/3sxmjwh95_n18bf__pwfsbnw0000gn/T/ipykernel_1816/4147824934.py:5: FutureWarning:\n",
      "\n",
      "Passing literal html to 'read_html' is deprecated and will be removed in a future version. To read from a literal string, wrap it in a 'StringIO' object.\n",
      "\n",
      "/var/folders/b3/3sxmjwh95_n18bf__pwfsbnw0000gn/T/ipykernel_1816/4147824934.py:5: FutureWarning:\n",
      "\n",
      "Passing literal html to 'read_html' is deprecated and will be removed in a future version. To read from a literal string, wrap it in a 'StringIO' object.\n",
      "\n",
      "/var/folders/b3/3sxmjwh95_n18bf__pwfsbnw0000gn/T/ipykernel_1816/4147824934.py:5: FutureWarning:\n",
      "\n",
      "Passing literal html to 'read_html' is deprecated and will be removed in a future version. To read from a literal string, wrap it in a 'StringIO' object.\n",
      "\n",
      "/var/folders/b3/3sxmjwh95_n18bf__pwfsbnw0000gn/T/ipykernel_1816/4147824934.py:5: FutureWarning:\n",
      "\n",
      "Passing literal html to 'read_html' is deprecated and will be removed in a future version. To read from a literal string, wrap it in a 'StringIO' object.\n",
      "\n",
      "/var/folders/b3/3sxmjwh95_n18bf__pwfsbnw0000gn/T/ipykernel_1816/4147824934.py:5: FutureWarning:\n",
      "\n",
      "Passing literal html to 'read_html' is deprecated and will be removed in a future version. To read from a literal string, wrap it in a 'StringIO' object.\n",
      "\n",
      "/var/folders/b3/3sxmjwh95_n18bf__pwfsbnw0000gn/T/ipykernel_1816/4147824934.py:5: FutureWarning:\n",
      "\n",
      "Passing literal html to 'read_html' is deprecated and will be removed in a future version. To read from a literal string, wrap it in a 'StringIO' object.\n",
      "\n",
      "/var/folders/b3/3sxmjwh95_n18bf__pwfsbnw0000gn/T/ipykernel_1816/4147824934.py:5: FutureWarning:\n",
      "\n",
      "Passing literal html to 'read_html' is deprecated and will be removed in a future version. To read from a literal string, wrap it in a 'StringIO' object.\n",
      "\n",
      "/var/folders/b3/3sxmjwh95_n18bf__pwfsbnw0000gn/T/ipykernel_1816/4147824934.py:5: FutureWarning:\n",
      "\n",
      "Passing literal html to 'read_html' is deprecated and will be removed in a future version. To read from a literal string, wrap it in a 'StringIO' object.\n",
      "\n",
      "/var/folders/b3/3sxmjwh95_n18bf__pwfsbnw0000gn/T/ipykernel_1816/4147824934.py:5: FutureWarning:\n",
      "\n",
      "Passing literal html to 'read_html' is deprecated and will be removed in a future version. To read from a literal string, wrap it in a 'StringIO' object.\n",
      "\n",
      "/var/folders/b3/3sxmjwh95_n18bf__pwfsbnw0000gn/T/ipykernel_1816/4147824934.py:5: FutureWarning:\n",
      "\n",
      "Passing literal html to 'read_html' is deprecated and will be removed in a future version. To read from a literal string, wrap it in a 'StringIO' object.\n",
      "\n",
      "/var/folders/b3/3sxmjwh95_n18bf__pwfsbnw0000gn/T/ipykernel_1816/4147824934.py:5: FutureWarning:\n",
      "\n",
      "Passing literal html to 'read_html' is deprecated and will be removed in a future version. To read from a literal string, wrap it in a 'StringIO' object.\n",
      "\n",
      "/var/folders/b3/3sxmjwh95_n18bf__pwfsbnw0000gn/T/ipykernel_1816/4147824934.py:5: FutureWarning:\n",
      "\n",
      "Passing literal html to 'read_html' is deprecated and will be removed in a future version. To read from a literal string, wrap it in a 'StringIO' object.\n",
      "\n",
      "/var/folders/b3/3sxmjwh95_n18bf__pwfsbnw0000gn/T/ipykernel_1816/4147824934.py:5: FutureWarning:\n",
      "\n",
      "Passing literal html to 'read_html' is deprecated and will be removed in a future version. To read from a literal string, wrap it in a 'StringIO' object.\n",
      "\n",
      "/var/folders/b3/3sxmjwh95_n18bf__pwfsbnw0000gn/T/ipykernel_1816/4147824934.py:5: FutureWarning:\n",
      "\n",
      "Passing literal html to 'read_html' is deprecated and will be removed in a future version. To read from a literal string, wrap it in a 'StringIO' object.\n",
      "\n",
      "/var/folders/b3/3sxmjwh95_n18bf__pwfsbnw0000gn/T/ipykernel_1816/4147824934.py:5: FutureWarning:\n",
      "\n",
      "Passing literal html to 'read_html' is deprecated and will be removed in a future version. To read from a literal string, wrap it in a 'StringIO' object.\n",
      "\n",
      "/var/folders/b3/3sxmjwh95_n18bf__pwfsbnw0000gn/T/ipykernel_1816/4147824934.py:5: FutureWarning:\n",
      "\n",
      "Passing literal html to 'read_html' is deprecated and will be removed in a future version. To read from a literal string, wrap it in a 'StringIO' object.\n",
      "\n",
      "/var/folders/b3/3sxmjwh95_n18bf__pwfsbnw0000gn/T/ipykernel_1816/4147824934.py:5: FutureWarning:\n",
      "\n",
      "Passing literal html to 'read_html' is deprecated and will be removed in a future version. To read from a literal string, wrap it in a 'StringIO' object.\n",
      "\n",
      "/var/folders/b3/3sxmjwh95_n18bf__pwfsbnw0000gn/T/ipykernel_1816/4147824934.py:5: FutureWarning:\n",
      "\n",
      "Passing literal html to 'read_html' is deprecated and will be removed in a future version. To read from a literal string, wrap it in a 'StringIO' object.\n",
      "\n",
      "/var/folders/b3/3sxmjwh95_n18bf__pwfsbnw0000gn/T/ipykernel_1816/4147824934.py:5: FutureWarning:\n",
      "\n",
      "Passing literal html to 'read_html' is deprecated and will be removed in a future version. To read from a literal string, wrap it in a 'StringIO' object.\n",
      "\n",
      "/var/folders/b3/3sxmjwh95_n18bf__pwfsbnw0000gn/T/ipykernel_1816/4147824934.py:5: FutureWarning:\n",
      "\n",
      "Passing literal html to 'read_html' is deprecated and will be removed in a future version. To read from a literal string, wrap it in a 'StringIO' object.\n",
      "\n",
      "/var/folders/b3/3sxmjwh95_n18bf__pwfsbnw0000gn/T/ipykernel_1816/4147824934.py:5: FutureWarning:\n",
      "\n",
      "Passing literal html to 'read_html' is deprecated and will be removed in a future version. To read from a literal string, wrap it in a 'StringIO' object.\n",
      "\n",
      "/var/folders/b3/3sxmjwh95_n18bf__pwfsbnw0000gn/T/ipykernel_1816/4147824934.py:5: FutureWarning:\n",
      "\n",
      "Passing literal html to 'read_html' is deprecated and will be removed in a future version. To read from a literal string, wrap it in a 'StringIO' object.\n",
      "\n",
      "/var/folders/b3/3sxmjwh95_n18bf__pwfsbnw0000gn/T/ipykernel_1816/4147824934.py:5: FutureWarning:\n",
      "\n",
      "Passing literal html to 'read_html' is deprecated and will be removed in a future version. To read from a literal string, wrap it in a 'StringIO' object.\n",
      "\n",
      "/var/folders/b3/3sxmjwh95_n18bf__pwfsbnw0000gn/T/ipykernel_1816/4147824934.py:5: FutureWarning:\n",
      "\n",
      "Passing literal html to 'read_html' is deprecated and will be removed in a future version. To read from a literal string, wrap it in a 'StringIO' object.\n",
      "\n",
      "/var/folders/b3/3sxmjwh95_n18bf__pwfsbnw0000gn/T/ipykernel_1816/4147824934.py:5: FutureWarning:\n",
      "\n",
      "Passing literal html to 'read_html' is deprecated and will be removed in a future version. To read from a literal string, wrap it in a 'StringIO' object.\n",
      "\n",
      "/var/folders/b3/3sxmjwh95_n18bf__pwfsbnw0000gn/T/ipykernel_1816/4147824934.py:5: FutureWarning:\n",
      "\n",
      "Passing literal html to 'read_html' is deprecated and will be removed in a future version. To read from a literal string, wrap it in a 'StringIO' object.\n",
      "\n",
      "/var/folders/b3/3sxmjwh95_n18bf__pwfsbnw0000gn/T/ipykernel_1816/4147824934.py:5: FutureWarning:\n",
      "\n",
      "Passing literal html to 'read_html' is deprecated and will be removed in a future version. To read from a literal string, wrap it in a 'StringIO' object.\n",
      "\n",
      "/var/folders/b3/3sxmjwh95_n18bf__pwfsbnw0000gn/T/ipykernel_1816/4147824934.py:5: FutureWarning:\n",
      "\n",
      "Passing literal html to 'read_html' is deprecated and will be removed in a future version. To read from a literal string, wrap it in a 'StringIO' object.\n",
      "\n",
      "/var/folders/b3/3sxmjwh95_n18bf__pwfsbnw0000gn/T/ipykernel_1816/4147824934.py:5: FutureWarning:\n",
      "\n",
      "Passing literal html to 'read_html' is deprecated and will be removed in a future version. To read from a literal string, wrap it in a 'StringIO' object.\n",
      "\n",
      "/var/folders/b3/3sxmjwh95_n18bf__pwfsbnw0000gn/T/ipykernel_1816/4147824934.py:5: FutureWarning:\n",
      "\n",
      "Passing literal html to 'read_html' is deprecated and will be removed in a future version. To read from a literal string, wrap it in a 'StringIO' object.\n",
      "\n",
      "/var/folders/b3/3sxmjwh95_n18bf__pwfsbnw0000gn/T/ipykernel_1816/4147824934.py:5: FutureWarning:\n",
      "\n",
      "Passing literal html to 'read_html' is deprecated and will be removed in a future version. To read from a literal string, wrap it in a 'StringIO' object.\n",
      "\n",
      "/var/folders/b3/3sxmjwh95_n18bf__pwfsbnw0000gn/T/ipykernel_1816/4147824934.py:5: FutureWarning:\n",
      "\n",
      "Passing literal html to 'read_html' is deprecated and will be removed in a future version. To read from a literal string, wrap it in a 'StringIO' object.\n",
      "\n",
      "/var/folders/b3/3sxmjwh95_n18bf__pwfsbnw0000gn/T/ipykernel_1816/4147824934.py:5: FutureWarning:\n",
      "\n",
      "Passing literal html to 'read_html' is deprecated and will be removed in a future version. To read from a literal string, wrap it in a 'StringIO' object.\n",
      "\n",
      "/var/folders/b3/3sxmjwh95_n18bf__pwfsbnw0000gn/T/ipykernel_1816/4147824934.py:5: FutureWarning:\n",
      "\n",
      "Passing literal html to 'read_html' is deprecated and will be removed in a future version. To read from a literal string, wrap it in a 'StringIO' object.\n",
      "\n",
      "/var/folders/b3/3sxmjwh95_n18bf__pwfsbnw0000gn/T/ipykernel_1816/4147824934.py:5: FutureWarning:\n",
      "\n",
      "Passing literal html to 'read_html' is deprecated and will be removed in a future version. To read from a literal string, wrap it in a 'StringIO' object.\n",
      "\n",
      "/var/folders/b3/3sxmjwh95_n18bf__pwfsbnw0000gn/T/ipykernel_1816/4147824934.py:5: FutureWarning:\n",
      "\n",
      "Passing literal html to 'read_html' is deprecated and will be removed in a future version. To read from a literal string, wrap it in a 'StringIO' object.\n",
      "\n",
      "/var/folders/b3/3sxmjwh95_n18bf__pwfsbnw0000gn/T/ipykernel_1816/4147824934.py:5: FutureWarning:\n",
      "\n",
      "Passing literal html to 'read_html' is deprecated and will be removed in a future version. To read from a literal string, wrap it in a 'StringIO' object.\n",
      "\n",
      "/var/folders/b3/3sxmjwh95_n18bf__pwfsbnw0000gn/T/ipykernel_1816/4147824934.py:5: FutureWarning:\n",
      "\n",
      "Passing literal html to 'read_html' is deprecated and will be removed in a future version. To read from a literal string, wrap it in a 'StringIO' object.\n",
      "\n",
      "/var/folders/b3/3sxmjwh95_n18bf__pwfsbnw0000gn/T/ipykernel_1816/4147824934.py:5: FutureWarning:\n",
      "\n",
      "Passing literal html to 'read_html' is deprecated and will be removed in a future version. To read from a literal string, wrap it in a 'StringIO' object.\n",
      "\n",
      "/var/folders/b3/3sxmjwh95_n18bf__pwfsbnw0000gn/T/ipykernel_1816/4147824934.py:5: FutureWarning:\n",
      "\n",
      "Passing literal html to 'read_html' is deprecated and will be removed in a future version. To read from a literal string, wrap it in a 'StringIO' object.\n",
      "\n",
      "/var/folders/b3/3sxmjwh95_n18bf__pwfsbnw0000gn/T/ipykernel_1816/4147824934.py:5: FutureWarning:\n",
      "\n",
      "Passing literal html to 'read_html' is deprecated and will be removed in a future version. To read from a literal string, wrap it in a 'StringIO' object.\n",
      "\n",
      "/var/folders/b3/3sxmjwh95_n18bf__pwfsbnw0000gn/T/ipykernel_1816/4147824934.py:5: FutureWarning:\n",
      "\n",
      "Passing literal html to 'read_html' is deprecated and will be removed in a future version. To read from a literal string, wrap it in a 'StringIO' object.\n",
      "\n",
      "/var/folders/b3/3sxmjwh95_n18bf__pwfsbnw0000gn/T/ipykernel_1816/4147824934.py:5: FutureWarning:\n",
      "\n",
      "Passing literal html to 'read_html' is deprecated and will be removed in a future version. To read from a literal string, wrap it in a 'StringIO' object.\n",
      "\n",
      "/var/folders/b3/3sxmjwh95_n18bf__pwfsbnw0000gn/T/ipykernel_1816/4147824934.py:5: FutureWarning:\n",
      "\n",
      "Passing literal html to 'read_html' is deprecated and will be removed in a future version. To read from a literal string, wrap it in a 'StringIO' object.\n",
      "\n",
      "/var/folders/b3/3sxmjwh95_n18bf__pwfsbnw0000gn/T/ipykernel_1816/4147824934.py:5: FutureWarning:\n",
      "\n",
      "Passing literal html to 'read_html' is deprecated and will be removed in a future version. To read from a literal string, wrap it in a 'StringIO' object.\n",
      "\n",
      "/var/folders/b3/3sxmjwh95_n18bf__pwfsbnw0000gn/T/ipykernel_1816/4147824934.py:5: FutureWarning:\n",
      "\n",
      "Passing literal html to 'read_html' is deprecated and will be removed in a future version. To read from a literal string, wrap it in a 'StringIO' object.\n",
      "\n",
      "/var/folders/b3/3sxmjwh95_n18bf__pwfsbnw0000gn/T/ipykernel_1816/4147824934.py:5: FutureWarning:\n",
      "\n",
      "Passing literal html to 'read_html' is deprecated and will be removed in a future version. To read from a literal string, wrap it in a 'StringIO' object.\n",
      "\n",
      "/var/folders/b3/3sxmjwh95_n18bf__pwfsbnw0000gn/T/ipykernel_1816/4147824934.py:5: FutureWarning:\n",
      "\n",
      "Passing literal html to 'read_html' is deprecated and will be removed in a future version. To read from a literal string, wrap it in a 'StringIO' object.\n",
      "\n",
      "/var/folders/b3/3sxmjwh95_n18bf__pwfsbnw0000gn/T/ipykernel_1816/4147824934.py:5: FutureWarning:\n",
      "\n",
      "Passing literal html to 'read_html' is deprecated and will be removed in a future version. To read from a literal string, wrap it in a 'StringIO' object.\n",
      "\n",
      "/var/folders/b3/3sxmjwh95_n18bf__pwfsbnw0000gn/T/ipykernel_1816/4147824934.py:5: FutureWarning:\n",
      "\n",
      "Passing literal html to 'read_html' is deprecated and will be removed in a future version. To read from a literal string, wrap it in a 'StringIO' object.\n",
      "\n",
      "/var/folders/b3/3sxmjwh95_n18bf__pwfsbnw0000gn/T/ipykernel_1816/4147824934.py:5: FutureWarning:\n",
      "\n",
      "Passing literal html to 'read_html' is deprecated and will be removed in a future version. To read from a literal string, wrap it in a 'StringIO' object.\n",
      "\n",
      "/var/folders/b3/3sxmjwh95_n18bf__pwfsbnw0000gn/T/ipykernel_1816/4147824934.py:5: FutureWarning:\n",
      "\n",
      "Passing literal html to 'read_html' is deprecated and will be removed in a future version. To read from a literal string, wrap it in a 'StringIO' object.\n",
      "\n",
      "/var/folders/b3/3sxmjwh95_n18bf__pwfsbnw0000gn/T/ipykernel_1816/4147824934.py:5: FutureWarning:\n",
      "\n",
      "Passing literal html to 'read_html' is deprecated and will be removed in a future version. To read from a literal string, wrap it in a 'StringIO' object.\n",
      "\n",
      "/var/folders/b3/3sxmjwh95_n18bf__pwfsbnw0000gn/T/ipykernel_1816/4147824934.py:5: FutureWarning:\n",
      "\n",
      "Passing literal html to 'read_html' is deprecated and will be removed in a future version. To read from a literal string, wrap it in a 'StringIO' object.\n",
      "\n",
      "/var/folders/b3/3sxmjwh95_n18bf__pwfsbnw0000gn/T/ipykernel_1816/4147824934.py:5: FutureWarning:\n",
      "\n",
      "Passing literal html to 'read_html' is deprecated and will be removed in a future version. To read from a literal string, wrap it in a 'StringIO' object.\n",
      "\n",
      "/var/folders/b3/3sxmjwh95_n18bf__pwfsbnw0000gn/T/ipykernel_1816/4147824934.py:5: FutureWarning:\n",
      "\n",
      "Passing literal html to 'read_html' is deprecated and will be removed in a future version. To read from a literal string, wrap it in a 'StringIO' object.\n",
      "\n",
      "/var/folders/b3/3sxmjwh95_n18bf__pwfsbnw0000gn/T/ipykernel_1816/4147824934.py:5: FutureWarning:\n",
      "\n",
      "Passing literal html to 'read_html' is deprecated and will be removed in a future version. To read from a literal string, wrap it in a 'StringIO' object.\n",
      "\n",
      "/var/folders/b3/3sxmjwh95_n18bf__pwfsbnw0000gn/T/ipykernel_1816/4147824934.py:5: FutureWarning:\n",
      "\n",
      "Passing literal html to 'read_html' is deprecated and will be removed in a future version. To read from a literal string, wrap it in a 'StringIO' object.\n",
      "\n",
      "/var/folders/b3/3sxmjwh95_n18bf__pwfsbnw0000gn/T/ipykernel_1816/4147824934.py:5: FutureWarning:\n",
      "\n",
      "Passing literal html to 'read_html' is deprecated and will be removed in a future version. To read from a literal string, wrap it in a 'StringIO' object.\n",
      "\n",
      "/var/folders/b3/3sxmjwh95_n18bf__pwfsbnw0000gn/T/ipykernel_1816/4147824934.py:5: FutureWarning:\n",
      "\n",
      "Passing literal html to 'read_html' is deprecated and will be removed in a future version. To read from a literal string, wrap it in a 'StringIO' object.\n",
      "\n",
      "/var/folders/b3/3sxmjwh95_n18bf__pwfsbnw0000gn/T/ipykernel_1816/4147824934.py:5: FutureWarning:\n",
      "\n",
      "Passing literal html to 'read_html' is deprecated and will be removed in a future version. To read from a literal string, wrap it in a 'StringIO' object.\n",
      "\n",
      "/var/folders/b3/3sxmjwh95_n18bf__pwfsbnw0000gn/T/ipykernel_1816/4147824934.py:5: FutureWarning:\n",
      "\n",
      "Passing literal html to 'read_html' is deprecated and will be removed in a future version. To read from a literal string, wrap it in a 'StringIO' object.\n",
      "\n",
      "/var/folders/b3/3sxmjwh95_n18bf__pwfsbnw0000gn/T/ipykernel_1816/4147824934.py:5: FutureWarning:\n",
      "\n",
      "Passing literal html to 'read_html' is deprecated and will be removed in a future version. To read from a literal string, wrap it in a 'StringIO' object.\n",
      "\n",
      "/var/folders/b3/3sxmjwh95_n18bf__pwfsbnw0000gn/T/ipykernel_1816/4147824934.py:5: FutureWarning:\n",
      "\n",
      "Passing literal html to 'read_html' is deprecated and will be removed in a future version. To read from a literal string, wrap it in a 'StringIO' object.\n",
      "\n",
      "/var/folders/b3/3sxmjwh95_n18bf__pwfsbnw0000gn/T/ipykernel_1816/4147824934.py:5: FutureWarning:\n",
      "\n",
      "Passing literal html to 'read_html' is deprecated and will be removed in a future version. To read from a literal string, wrap it in a 'StringIO' object.\n",
      "\n",
      "/var/folders/b3/3sxmjwh95_n18bf__pwfsbnw0000gn/T/ipykernel_1816/4147824934.py:5: FutureWarning:\n",
      "\n",
      "Passing literal html to 'read_html' is deprecated and will be removed in a future version. To read from a literal string, wrap it in a 'StringIO' object.\n",
      "\n",
      "/var/folders/b3/3sxmjwh95_n18bf__pwfsbnw0000gn/T/ipykernel_1816/4147824934.py:5: FutureWarning:\n",
      "\n",
      "Passing literal html to 'read_html' is deprecated and will be removed in a future version. To read from a literal string, wrap it in a 'StringIO' object.\n",
      "\n",
      "/var/folders/b3/3sxmjwh95_n18bf__pwfsbnw0000gn/T/ipykernel_1816/4147824934.py:5: FutureWarning:\n",
      "\n",
      "Passing literal html to 'read_html' is deprecated and will be removed in a future version. To read from a literal string, wrap it in a 'StringIO' object.\n",
      "\n",
      "/var/folders/b3/3sxmjwh95_n18bf__pwfsbnw0000gn/T/ipykernel_1816/4147824934.py:5: FutureWarning:\n",
      "\n",
      "Passing literal html to 'read_html' is deprecated and will be removed in a future version. To read from a literal string, wrap it in a 'StringIO' object.\n",
      "\n"
     ]
    },
    {
     "data": {
      "text/html": [
       "<div>\n",
       "<style scoped>\n",
       "    .dataframe tbody tr th:only-of-type {\n",
       "        vertical-align: middle;\n",
       "    }\n",
       "\n",
       "    .dataframe tbody tr th {\n",
       "        vertical-align: top;\n",
       "    }\n",
       "\n",
       "    .dataframe thead th {\n",
       "        text-align: right;\n",
       "    }\n",
       "</style>\n",
       "<table border=\"1\" class=\"dataframe\">\n",
       "  <thead>\n",
       "    <tr style=\"text-align: right;\">\n",
       "      <th></th>\n",
       "      <th>Name</th>\n",
       "      <th>Description</th>\n",
       "      <th>lon</th>\n",
       "      <th>lat</th>\n",
       "      <th>AWARDED_DATE</th>\n",
       "      <th>LANDYADDRESSPOINT</th>\n",
       "      <th>PHOTOURL</th>\n",
       "      <th>ADDRESSBLOCKHOUSENUMBER</th>\n",
       "      <th>DESCRIPTION</th>\n",
       "      <th>EST_ORIGINAL_COMPLETION_DATE</th>\n",
       "      <th>...</th>\n",
       "      <th>NAME</th>\n",
       "      <th>ADDRESSBUILDINGNAME</th>\n",
       "      <th>HUP_COMPLETION_DATE</th>\n",
       "      <th>LANDXADDRESSPOINT</th>\n",
       "      <th>ADDRESSSTREETNAME</th>\n",
       "      <th>ADDRESSPOSTALCODE</th>\n",
       "      <th>IMPLEMENTATION_DATE</th>\n",
       "      <th>ADDRESS_MYENV</th>\n",
       "      <th>INC_CRC</th>\n",
       "      <th>FMEL_UPD_D</th>\n",
       "    </tr>\n",
       "  </thead>\n",
       "  <tbody>\n",
       "    <tr>\n",
       "      <th>0</th>\n",
       "      <td>kml_1</td>\n",
       "      <td>&lt;center&gt;&lt;table&gt;&lt;tr&gt;&lt;th colspan='2' align='cent...</td>\n",
       "      <td>103.850165</td>\n",
       "      <td>1.284425</td>\n",
       "      <td>17/7/2017</td>\n",
       "      <td>29650.7</td>\n",
       "      <td>NaN</td>\n",
       "      <td>50</td>\n",
       "      <td>New Replacement Centre</td>\n",
       "      <td>15/11/2021</td>\n",
       "      <td>...</td>\n",
       "      <td>Market Street Hawker Centre</td>\n",
       "      <td>CapitaSpring</td>\n",
       "      <td>NaN</td>\n",
       "      <td>29874.82</td>\n",
       "      <td>Market Street</td>\n",
       "      <td>48940</td>\n",
       "      <td>1/8/2017</td>\n",
       "      <td>NaN</td>\n",
       "      <td>DB83871D0E006559</td>\n",
       "      <td>20221017143612</td>\n",
       "    </tr>\n",
       "    <tr>\n",
       "      <th>1</th>\n",
       "      <td>kml_2</td>\n",
       "      <td>&lt;center&gt;&lt;table&gt;&lt;tr&gt;&lt;th colspan='2' align='cent...</td>\n",
       "      <td>103.779785</td>\n",
       "      <td>1.433539</td>\n",
       "      <td>4/9/2015</td>\n",
       "      <td>46139.03</td>\n",
       "      <td>http://www.nea.gov.sg/images/default-source/Ha...</td>\n",
       "      <td>4</td>\n",
       "      <td>New Replacement Centre</td>\n",
       "      <td>8/11/2017</td>\n",
       "      <td>...</td>\n",
       "      <td>Marsiling Mall Hawker Centre</td>\n",
       "      <td>Marsiling Mall</td>\n",
       "      <td>NaN</td>\n",
       "      <td>22042.51</td>\n",
       "      <td>Woodlands Street 12</td>\n",
       "      <td>738623</td>\n",
       "      <td>1/1/2016</td>\n",
       "      <td>Blk 4,Woodlands St 12,Singapore�738623</td>\n",
       "      <td>67D9A36B865FC1FB</td>\n",
       "      <td>20221017143612</td>\n",
       "    </tr>\n",
       "    <tr>\n",
       "      <th>2</th>\n",
       "      <td>kml_3</td>\n",
       "      <td>&lt;center&gt;&lt;table&gt;&lt;tr&gt;&lt;th colspan='2' align='cent...</td>\n",
       "      <td>103.804715</td>\n",
       "      <td>1.297486</td>\n",
       "      <td>11/5/2015</td>\n",
       "      <td>31094.91</td>\n",
       "      <td>NaN</td>\n",
       "      <td>38A</td>\n",
       "      <td>New Replacement Centre</td>\n",
       "      <td>30/3/2022</td>\n",
       "      <td>...</td>\n",
       "      <td>Margaret Drive Hawker Centre</td>\n",
       "      <td>NaN</td>\n",
       "      <td>NaN</td>\n",
       "      <td>24816.7</td>\n",
       "      <td>Margaret Drive</td>\n",
       "      <td>142038</td>\n",
       "      <td>2/12/2015</td>\n",
       "      <td>NaN</td>\n",
       "      <td>C80F89698B7A8757</td>\n",
       "      <td>20221017143612</td>\n",
       "    </tr>\n",
       "    <tr>\n",
       "      <th>3</th>\n",
       "      <td>kml_4</td>\n",
       "      <td>&lt;center&gt;&lt;table&gt;&lt;tr&gt;&lt;th colspan='2' align='cent...</td>\n",
       "      <td>103.877060</td>\n",
       "      <td>1.391592</td>\n",
       "      <td>30/7/2018</td>\n",
       "      <td>41500.77</td>\n",
       "      <td>NaN</td>\n",
       "      <td>21</td>\n",
       "      <td>New Centre</td>\n",
       "      <td>22/3/2022</td>\n",
       "      <td>...</td>\n",
       "      <td>Fernvale Hawker Centre &amp; Market</td>\n",
       "      <td>Fernvale Community Club, Hawker Centre &amp; Market</td>\n",
       "      <td>NaN</td>\n",
       "      <td>32867.9</td>\n",
       "      <td>Sengkang West Avenue</td>\n",
       "      <td>797650</td>\n",
       "      <td>13/8/2018</td>\n",
       "      <td>NaN</td>\n",
       "      <td>E3AB7D1743979E42</td>\n",
       "      <td>20221017143612</td>\n",
       "    </tr>\n",
       "    <tr>\n",
       "      <th>4</th>\n",
       "      <td>kml_5</td>\n",
       "      <td>&lt;center&gt;&lt;table&gt;&lt;tr&gt;&lt;th colspan='2' align='cent...</td>\n",
       "      <td>103.904806</td>\n",
       "      <td>1.408190</td>\n",
       "      <td>8/8/2018</td>\n",
       "      <td>43336.13</td>\n",
       "      <td>NaN</td>\n",
       "      <td>1</td>\n",
       "      <td>New Centre</td>\n",
       "      <td>29/4/2022</td>\n",
       "      <td>...</td>\n",
       "      <td>One Punggol Hawker Centre</td>\n",
       "      <td>One Punggol</td>\n",
       "      <td>NaN</td>\n",
       "      <td>35955.52</td>\n",
       "      <td>Punggol Drive</td>\n",
       "      <td>828629</td>\n",
       "      <td>29/8/2018</td>\n",
       "      <td>NaN</td>\n",
       "      <td>4780858D968F79C9</td>\n",
       "      <td>20221017143612</td>\n",
       "    </tr>\n",
       "  </tbody>\n",
       "</table>\n",
       "<p>5 rows × 23 columns</p>\n",
       "</div>"
      ],
      "text/plain": [
       "    Name                                        Description         lon  \\\n",
       "0  kml_1  <center><table><tr><th colspan='2' align='cent...  103.850165   \n",
       "1  kml_2  <center><table><tr><th colspan='2' align='cent...  103.779785   \n",
       "2  kml_3  <center><table><tr><th colspan='2' align='cent...  103.804715   \n",
       "3  kml_4  <center><table><tr><th colspan='2' align='cent...  103.877060   \n",
       "4  kml_5  <center><table><tr><th colspan='2' align='cent...  103.904806   \n",
       "\n",
       "        lat AWARDED_DATE LANDYADDRESSPOINT  \\\n",
       "0  1.284425    17/7/2017           29650.7   \n",
       "1  1.433539     4/9/2015          46139.03   \n",
       "2  1.297486    11/5/2015          31094.91   \n",
       "3  1.391592    30/7/2018          41500.77   \n",
       "4  1.408190     8/8/2018          43336.13   \n",
       "\n",
       "                                            PHOTOURL ADDRESSBLOCKHOUSENUMBER  \\\n",
       "0                                                NaN                      50   \n",
       "1  http://www.nea.gov.sg/images/default-source/Ha...                       4   \n",
       "2                                                NaN                     38A   \n",
       "3                                                NaN                      21   \n",
       "4                                                NaN                       1   \n",
       "\n",
       "              DESCRIPTION EST_ORIGINAL_COMPLETION_DATE  ...  \\\n",
       "0  New Replacement Centre                   15/11/2021  ...   \n",
       "1  New Replacement Centre                    8/11/2017  ...   \n",
       "2  New Replacement Centre                    30/3/2022  ...   \n",
       "3              New Centre                    22/3/2022  ...   \n",
       "4              New Centre                    29/4/2022  ...   \n",
       "\n",
       "                              NAME  \\\n",
       "0      Market Street Hawker Centre   \n",
       "1     Marsiling Mall Hawker Centre   \n",
       "2     Margaret Drive Hawker Centre   \n",
       "3  Fernvale Hawker Centre & Market   \n",
       "4        One Punggol Hawker Centre   \n",
       "\n",
       "                               ADDRESSBUILDINGNAME HUP_COMPLETION_DATE  \\\n",
       "0                                     CapitaSpring                 NaN   \n",
       "1                                   Marsiling Mall                 NaN   \n",
       "2                                              NaN                 NaN   \n",
       "3  Fernvale Community Club, Hawker Centre & Market                 NaN   \n",
       "4                                      One Punggol                 NaN   \n",
       "\n",
       "  LANDXADDRESSPOINT     ADDRESSSTREETNAME ADDRESSPOSTALCODE  \\\n",
       "0          29874.82         Market Street             48940   \n",
       "1          22042.51   Woodlands Street 12            738623   \n",
       "2           24816.7        Margaret Drive            142038   \n",
       "3           32867.9  Sengkang West Avenue            797650   \n",
       "4          35955.52         Punggol Drive            828629   \n",
       "\n",
       "  IMPLEMENTATION_DATE                           ADDRESS_MYENV  \\\n",
       "0            1/8/2017                                     NaN   \n",
       "1            1/1/2016  Blk 4,Woodlands St 12,Singapore�738623   \n",
       "2           2/12/2015                                     NaN   \n",
       "3           13/8/2018                                     NaN   \n",
       "4           29/8/2018                                     NaN   \n",
       "\n",
       "            INC_CRC      FMEL_UPD_D  \n",
       "0  DB83871D0E006559  20221017143612  \n",
       "1  67D9A36B865FC1FB  20221017143612  \n",
       "2  C80F89698B7A8757  20221017143612  \n",
       "3  E3AB7D1743979E42  20221017143612  \n",
       "4  4780858D968F79C9  20221017143612  \n",
       "\n",
       "[5 rows x 23 columns]"
      ]
     },
     "execution_count": 20,
     "metadata": {},
     "output_type": "execute_result"
    }
   ],
   "source": [
    "# Convert html table in description into individual features in the pandas dataframe\n",
    "parsed_data = []\n",
    "\n",
    "for _, row in df.iterrows():\n",
    "    html_table = row['Description']\n",
    "    temp_df = pd.read_html(html_table)[0]\n",
    "    features = temp_df.set_index('Attributes')['Attributes.1'].to_dict()\n",
    "    features['Name'] = row['Name']\n",
    "    parsed_data.append(features)\n",
    "\n",
    "features_df = pd.DataFrame(parsed_data)\n",
    "final_df = pd.merge(df, features_df, on='Name', how='left')\n",
    "final_df.head()\n"
   ]
  },
  {
   "cell_type": "code",
   "execution_count": 33,
   "metadata": {},
   "outputs": [
    {
     "data": {
      "application/vnd.plotly.v1+json": {
       "config": {
        "plotlyServerURL": "https://plot.ly"
       },
       "data": [
        {
         "customdata": [
          [
           "Market Street Hawker Centre",
           "Market Street",
           "48940"
          ],
          [
           "Marsiling Mall Hawker Centre",
           "Woodlands Street 12",
           "738623"
          ],
          [
           "Margaret Drive Hawker Centre",
           "Margaret Drive",
           "142038"
          ],
          [
           "Fernvale Hawker Centre & Market",
           "Sengkang West Avenue",
           "797650"
          ],
          [
           "One Punggol Hawker Centre",
           "Punggol Drive",
           "828629"
          ],
          [
           "Bukit Canberra Hawker Centre",
           "Canberra Link",
           "756973"
          ],
          [
           "Senja Hawker Centre",
           "Senja Close",
           "677632"
          ],
          [
           "Buangkok Hawker Centre",
           "Compassvale Bow",
           "544692"
          ],
          [
           "Bukit Batok West Hawker Centre",
           "Bukit Batok West Avenue 9",
           "651469"
          ],
          [
           "Telok Blangah Hawker Centre & Market",
           "Telok Blangah Drive",
           "103078"
          ],
          [
           "Bedok North Street 3 Blk 538",
           "Bedok North Street 3",
           "460538"
          ],
          [
           "Bedok North Street 4 Blk 85 (85 Fengshan Centre)",
           "Bedok North Street 4",
           "460085"
          ],
          [
           "Adam Road Food Centre",
           "Adam Road",
           "289876"
          ],
          [
           "Aljunied Ave 2 Blk 117 (Blk 117 Aljunied Market and Food Centre)",
           "Aljunied Ave 2",
           "380117"
          ],
          [
           "Amoy Street Food Centre (Telok Ayer Food Centre)",
           "Telok Ayer Street",
           "69111"
          ],
          [
           "Ang Mo Kio Ave 1 Blk 226D (Kebun Baru Market and Food Centre)",
           "Ang Mo Kio Ave 1",
           "564226"
          ],
          [
           "Ang Mo Kio Ave 1 Blk 341 (Teck Ghee Court)",
           "Ang Mo Kio Ave 1",
           "560341"
          ],
          [
           "Ang Mo Kio Ave 10 Blk 409 (Teck Ghee Square)",
           "Ang Mo Kio Ave 10",
           "560409"
          ],
          [
           "Ang Mo Kio Ave 10 Blk 453A (Chong Boon Market and Food Centre)",
           "Ang Mo Kio Ave 10",
           "561453"
          ],
          [
           "Ang Mo Kio Ave 10 Blk 527 (Cheng San Market and Cooked Food Centre)",
           "Ang Mo Kio Ave 10",
           "560527"
          ],
          [
           "Ang Mo Kio Ave 4 Blk 160/162 (Mayflower Market)",
           "Ang Mo Kio Ave 4",
           "560160"
          ],
          [
           "Ang Mo Kio Ave 4 Blk 628 (Ang Mo Kio 628 Market)",
           "Ang Mo Kio Ave 4",
           "560628"
          ],
          [
           "Ang Mo Kio Ave 6 Blk 724 (Blk 724 Ang Mo Kio Market)",
           "Ang Mo Kio Ave 6",
           "560724"
          ],
          [
           "Ang Mo Kio Street 22 Blk 226H (Kebun Baru Food Centre)",
           "Ang Mo Kio Street 22",
           "568226"
          ],
          [
           "Bedok Food Centre",
           "Bedok Road",
           "469572"
          ],
          [
           "Bedok North Street 1 Blk 216",
           "Bedok North Street 1",
           "460216"
          ],
          [
           "Bedok North Street 3 Blk 511 (Kaki Bukit 511 Market and Food Centre)",
           "Bedok North Street 3",
           "460511"
          ],
          [
           "Bedok Reservoir Road Blk 630",
           "Bedok Reservoir Road",
           "470630"
          ],
          [
           "Bedok South Road Blk 16",
           "Bedok South Road",
           "460016"
          ],
          [
           "Bendemeer Road Blk 29 (Bendemeer Market and Food Centre)",
           "Bendemeer Road",
           "330029"
          ],
          [
           "Beo Crescent Market",
           "Beo Crescent",
           "169982"
          ],
          [
           "Berseh Food Centre",
           "Jalan Besar",
           "208877"
          ],
          [
           "Boon Lay Place Blk 221A/B (Boon Lay Place Market and Food Village)",
           "Boon Lay Place",
           "641221"
          ],
          [
           "Buffalo Road Blk 665 (Tekka Centre/Zhu Jiao Market)",
           "Buffalo Road",
           "210665"
          ],
          [
           "Bukit Merah Central Blk 163 (Bukit Merah Central Food Centre)",
           "Bukit Merah Central",
           "150163"
          ],
          [
           "Bukit Merah Lane 1 Blk 120 (Alexandra Village Food Centre)",
           "Bukit Merah Lane 1",
           "150120"
          ],
          [
           "Bukit Merah View Blk 115 (Blk 115 Bukit Merah View Market and Food Centre)",
           "Bukit Merah View",
           "151115"
          ],
          [
           "Bukit Panjang Hawker Centre",
           "Bukit Panjang Ring Road",
           "679947"
          ],
          [
           "Bukit Timah Market",
           "Upper Bukit Timah Road",
           "588215"
          ],
          [
           "Cambridge Road Blk 41A (Pek Kio Market and Food Centre)",
           "Cambridge Road",
           "211041"
          ],
          [
           "Changi Village Blk 2 and 3",
           "Changi Village Road",
           "500002"
          ],
          [
           "Chomp Chomp Food Centre",
           "Kensington Park Road",
           "557269"
          ],
          [
           "Ci Yuan Hawker Centre",
           "Hougang Avenue 9",
           "538776"
          ],
          [
           "Circuit Road Blk 79/79A",
           "Circuit Road",
           "370079"
          ],
          [
           "Circuit Road Blk 80 (80 Circuit Road Market and Food Centre)",
           "Circuit Road",
           "370080"
          ],
          [
           "Circuit Road Blk 89",
           "Circuit Road",
           "370089"
          ],
          [
           "Clementi Ave 2 Blk 353 (Clementi Ave 2 Market/Cooked Food Centre)",
           "Clementi Ave 2",
           "120353"
          ],
          [
           "Clementi Ave 3 Blk 448",
           "Clementi Ave 3",
           "120448"
          ],
          [
           "Clementi West Street 2 Blk 726",
           "Clementi West Street 2",
           "120726"
          ],
          [
           "Commonwealth Crescent Market",
           "Commonwealth Crescent",
           "149644"
          ],
          [
           "Commonwealth Drive Blk 1A/2A/3A (Tanglin Halt Food Centre/Commonwealth Drive Food Centre)",
           "Commonwealth Drive",
           "141001"
          ],
          [
           "Dunman Food Centre",
           "Onan Road",
           "424768"
          ],
          [
           "East Coast Lagoon Food Village",
           "East Coast Parkway",
           "468960"
          ],
          [
           "Empress Road Blk 7 (Empress Road Market and Food Centre)",
           "Empress Road",
           "260007"
          ],
          [
           "Geylang Bahru Blk 69 (Blk 69 Geylang Bahru Market and Food Centre)",
           "Geylang Bahru",
           "330069"
          ],
          [
           "Geylang Serai Market",
           "Geylang Serai",
           "402001"
          ],
          [
           "Ghim Moh Road Blk 20",
           "Ghim Moh Road",
           "270020"
          ],
          [
           "Golden Mile Food Centre",
           "Beach Road",
           "199583"
          ],
          [
           "Haig Road Blk 13/14 (Haig Road Market and Cooked Food Centre)",
           "Haig Road",
           "430013"
          ],
          [
           "Havelock Road Blk 22A/B (Havelock Road Cooked Food Centre)",
           "Havelock Road",
           "161022"
          ],
          [
           "Hawker Centre @ Our Tampines Hub",
           "Tampines Walk",
           "528523"
          ],
          [
           "Shunfu Road Blk 320 (Shunfu Mart)",
           "Shunfu Road",
           "570320"
          ],
          [
           "Sims Place Blk 49 (Sims Vista Market and Food Centre)",
           "Sims Place",
           "380049"
          ],
          [
           "Smith Street Blk 335 (Chinatown Complex Market)",
           "Smith Street",
           "50335"
          ],
          [
           "Taman Jurong Market and Food Centre",
           "Yung Sheng Road",
           "618499"
          ],
          [
           "Tampines Street 11 Blk 137 (Tampines Round Market and Food Centre)",
           "Tampines Street 11",
           "521137"
          ],
          [
           "Tanglin Halt Market",
           "Tanglin Halt Road",
           "148813"
          ],
          [
           "Tanjong Pagar Plaza Blk 6 (Blk 6 Tanjong Pagar Plaza Market and Food Centre)",
           "Tanjong Pagar Plaza",
           "81006"
          ],
          [
           "Teban Gardens Road Blk 37A (Teban Gardens Market and Food Centre)",
           "Teban Gardens Road",
           "601037"
          ],
          [
           "Telok Blangah Crescent Blk 11 (11 Telok Blangah Crescent Market and Food Centre)",
           "Telok Blangah Crescent",
           "90011"
          ],
          [
           "Eunos Crescent Blk 4A",
           "Eunos Crescent",
           "402004"
          ],
          [
           "Telok Blangah Drive Blk 79 (Telok Blangah Food Centre)",
           "Telok Blangah Drive",
           "100079"
          ],
          [
           "Zion Riverside Food Centre",
           "Zion Road",
           "247792"
          ],
          [
           "Woodleigh Village Hawker Centre",
           "Woodleigh Link",
           "363202"
          ],
          [
           "Anchorvale Village Hawker Centre",
           "Anchorvale Road",
           "540339"
          ],
          [
           "Punggol Digital District Hawker Centre",
           "Ponggol Seventeenth Avenue",
           null
          ],
          [
           "Holland Drive Blk 44 (Holland Drive Market and Food Centre)",
           "Holland Drive",
           "270044"
          ],
          [
           "Holland Village Market and Food Centre",
           "Lorong Mambong",
           "277700"
          ],
          [
           "Hougang Ave 1 Blk 105 (Hougang 105 Hainanese Village Centre)",
           "Hougang Ave 1",
           "530105"
          ],
          [
           "Hougang Street 21 Blk 209 (Kovan Hougang Market and Food Centre)",
           "Hougang Street 21",
           "530209"
          ],
          [
           "Jalan Batu Blk 4A (Blk 4A Jalan Batu Hawker Centre/Market)",
           "Jalan Batu",
           "432004"
          ],
          [
           "Jalan Bukit Merah Blk 112 (Blk 112 Jalan Bukit Merah Market and Food Centre)",
           "Jalan Bukit Merah",
           "160112"
          ],
          [
           "Jalan Bukit Merah Blk 6 (ABC Brickworks Market/Food Centre)",
           "Jalan Bukit Merah",
           "150006"
          ],
          [
           "Jalan Kukoh Blk 1 (Kukoh 21 Food Centre)",
           "Jalan Kukoh",
           "161001"
          ],
          [
           "Jurong East Ave 1 Blk 347 (Yuhua Market and Hawker Centre)",
           "Jurong East Ave 1",
           "600347"
          ],
          [
           "Jurong East Street 24 Blk 254 (Yuhua Village Market and Food Centre)",
           "Jurong East Street 24",
           "600254"
          ],
          [
           "Jurong West Hawker Centre",
           "Jurong West Street 61",
           "648202"
          ],
          [
           "Jurong West Street 52 Blk 505",
           "Jurong West Street 52",
           "640505"
          ],
          [
           "Kallang Estate Fresh Market and Food Centre",
           "Old Airport Road",
           "397972"
          ],
          [
           "Redhill Lane Blk 85 (Redhill Food Centre)",
           "Redhill Lane",
           "150085"
          ],
          [
           "Kampung Admiralty Hawker Centre",
           "Woodlands Drive 71",
           "730676"
          ],
          [
           "Marine Parade Central Blk 84 (84 Marine Parade Central Market and Food Centre)",
           "Marine Parade Central",
           "440084"
          ],
          [
           "Marine Terrace Blk 50A (50A Marine Terrace)",
           "Marine Terrace",
           "441050"
          ],
          [
           "Marsiling Lane Blk 20/21",
           "Marsiling Lane",
           "730020"
          ],
          [
           "Maxwell Food Centre (Kim Hua Market)",
           "Kadayanallur Street",
           "69184"
          ],
          [
           "Mei Chin Road Blk 159 (Mei Chin Road Market)",
           "Mei Chin Road",
           "140159"
          ],
          [
           "New Market Road Blk 32 (People's Park Food Centre)",
           "New Market Road",
           "50032"
          ],
          [
           "New Upper Changi Road Blk 208B",
           "New Upper Changi Road",
           "462208"
          ],
          [
           "New Upper Changi Road Blk 58",
           "New Upper Changi Road",
           "461058"
          ],
          [
           "Newton Food Centre",
           "Clemenceau Ave North",
           "229495"
          ],
          [
           "North Bridge Road Market",
           "North Bridge Road",
           "198783"
          ],
          [
           "Old Airport Road Blk 51 (51 Old Airport Road Food Centre and Shopping Mall)",
           "Old Airport Road",
           "390051"
          ],
          [
           "Pasir Panjang Food Centre",
           "Pasir Panjang Road",
           "118543"
          ],
          [
           "Pasir Ris Central Hawker Centre",
           "Pasir Ris Central",
           "519641"
          ],
          [
           "Queen Street Blk 270 (Albert Centre)",
           "Queen Street",
           "180270"
          ],
          [
           "Redhill Lane Blk 79 (Redhill Market)",
           "Redhill Lane",
           "150079"
          ],
          [
           "Sembawang Hills Food Centre (Jalan Leban Food Centre)",
           "Upper Thomson Road",
           "574419"
          ],
          [
           "Serangoon Garden Market",
           "Serangoon Garden Way",
           "555945"
          ],
          [
           "Telok Blangah Drive Blk 82 (Telok Blangah Market)",
           "Telok Blangah Drive",
           "100082"
          ],
          [
           "Telok Blangah Rise Blk 36 (Telok Blangah Rise Market)",
           "Telok Blangah Rise",
           "90036"
          ],
          [
           "Tiong Bahru Market",
           "Seng Poh Road",
           "168898"
          ],
          [
           "Toa Payoh Lorong 1 Blk 127 (Toa Payoh West Market and Food Court)",
           "Lorong 1 Toa Payoh",
           "310127"
          ],
          [
           "Toa Payoh Lorong 4 Blk 74 (Toa Payoh Vista Market)",
           "Lorong 4 Toa Payoh",
           "310074"
          ],
          [
           "Toa Payoh Lorong 4 Blk 93",
           "Lorong 4 Toa Payoh",
           "310093"
          ],
          [
           "Toa Payoh Lorong 5 Blk 75",
           "Lorong 5 Toa Payoh",
           "310075"
          ],
          [
           "Toa Payoh Lorong 7 Blk 22 (Kim Keat Palm Market and Food Centre)",
           "Lorong 7 Toa Payoh",
           "310022"
          ],
          [
           "Toa Payoh Lorong 8 Blk 210",
           "Lorong 8 Toa Payoh",
           "310210"
          ],
          [
           "Upper Boon Keng Road Blk 17 (Blk 17 Upper Boon Keng Market and Food Centre)",
           "Upper Boon Keng Road",
           "380017"
          ],
          [
           "Upper Cross Street Blk 531A (Hong Lim Food Centre and Market)",
           "Upper Cross Street",
           "51531"
          ],
          [
           "West Coast Drive Blk 502 (Ayer Rajah Market)",
           "West Coast Drive",
           "120502"
          ],
          [
           "West Coast Drive Blk 503 (Ayer Rajah Food Centre)",
           "West Coast Drive",
           "120503"
          ],
          [
           "Whampoa Drive Blk 90 (Whampoa Drive Makan Place/Whampoa Food Centre)",
           "Whampoa Drive",
           "320090"
          ],
          [
           "Whampoa Drive Blk 91/92 (Whampoa Drive Makan Place/Whampoa Market)",
           "Whampoa Drive",
           "320091"
          ],
          [
           "Yishun Park Hawker Centre",
           "Yishun Avenue 11",
           "768867"
          ],
          [
           "Yishun Ring Road Blk 104/105 (Chong Pang Market and Food Centre)",
           "Yishun Ring Road",
           "760104"
          ]
         ],
         "hovertemplate": "\n    <b>Name:</b> %{customdata[0]} <br>\n    <b>Address:</b> %{customdata[1]} <br>\n    <b>Postal Code:</b> %{customdata[2]} <br> \n    <extra></extra>\n    ",
         "lat": [
          1.2844248503218,
          1.43353885680037,
          1.29748567106686,
          1.39159232727757,
          1.40818996870647,
          1.44901674160031,
          1.38713573069818,
          1.38238755827879,
          1.35521457121361,
          1.27324863952078,
          1.33178125123252,
          1.33198706861747,
          1.32413422253318,
          1.32064829234987,
          1.27921844263269,
          1.36678764523637,
          1.36410517096399,
          1.36276891777383,
          1.36824049310006,
          1.37276992816898,
          1.37448912101909,
          1.38102486670548,
          1.37219743270045,
          1.36723014879667,
          1.32035600765426,
          1.32706240888967,
          1.33324627868937,
          1.33315924777343,
          1.32055216480957,
          1.31921699786807,
          1.28882210205212,
          1.30733651651517,
          1.3452231627967,
          1.30620584090733,
          1.28369258928085,
          1.28629777221659,
          1.28550478314618,
          1.37760053528611,
          1.33937596351523,
          1.31615991374589,
          1.38915172065006,
          1.36422852315868,
          1.37542896666561,
          1.32644992167231,
          1.32784956142548,
          1.32344525333847,
          1.31436772839327,
          1.31326486994113,
          1.3037819726711,
          1.3068922760844,
          1.29971330531884,
          1.30941418731185,
          1.30668431820832,
          1.31624573118373,
          1.32146226027018,
          1.3167281476983,
          1.31099627311591,
          1.30287548090781,
          1.3151420505272,
          1.28797543998733,
          1.35386211773287,
          1.35200744198417,
          1.31708335109103,
          1.28223514826381,
          1.33458935951076,
          1.3456395210229,
          1.30078931480841,
          1.27661461066321,
          1.32084835041654,
          1.27736683810318,
          1.32033178221424,
          1.27336828250285,
          1.29234216757957,
          1.3397961360031,
          1.39691417603694,
          1.41456688638677,
          1.30811775909823,
          1.31090802808558,
          1.35383739101169,
          1.35911942212642,
          1.30241881353449,
          1.28000481198881,
          1.28695275198944,
          1.28823055540002,
          1.34531247026793,
          1.34344213770991,
          1.3412597060095,
          1.34964224318434,
          1.30739616009942,
          1.28733076703987,
          1.43993283228134,
          1.30228513841822,
          1.30577514781108,
          1.44388181695611,
          1.28011223513205,
          1.29323622090658,
          1.28499102169498,
          1.32473884451035,
          1.32418782817919,
          1.31189235691653,
          1.30576537802761,
          1.30825156309798,
          1.27590752450201,
          1.37343413973246,
          1.30100146521405,
          1.2878581025663,
          1.37238494002145,
          1.3631571201113,
          1.27391379857001,
          1.27271579716508,
          1.28508825756819,
          1.33809268551386,
          1.33454816495637,
          1.3384747524617,
          1.33603882157063,
          1.33523145909678,
          1.3402608349586,
          1.31502804429519,
          1.28524640047048,
          1.31188972115897,
          1.31180301004196,
          1.32294306204189,
          1.32342175143826,
          1.42501763803265,
          1.43144768831222
         ],
         "legendgroup": "",
         "lon": [
          103.850164578087,
          103.779784899996,
          103.804715225285,
          103.877060478847,
          103.904805657576,
          103.822484958307,
          103.761017756804,
          103.892403203249,
          103.741825836536,
          103.808078713674,
          103.924844235398,
          103.938732580554,
          103.814165010384,
          103.88701902611,
          103.846606784092,
          103.839231344066,
          103.848254220438,
          103.855369790045,
          103.856351437414,
          103.854482811591,
          103.839214290038,
          103.840682307297,
          103.846519219268,
          103.839953165936,
          103.955474150677,
          103.933221544751,
          103.930602144469,
          103.91405388831,
          103.93553909635,
          103.863021377531,
          103.827358017197,
          103.856853966617,
          103.712799765872,
          103.850530969624,
          103.816992390295,
          103.804489277779,
          103.822049361292,
          103.772489583206,
          103.775995008012,
          103.850225081031,
          103.988245749103,
          103.866536130299,
          103.882977999397,
          103.885043500019,
          103.887128535137,
          103.885449224256,
          103.770836740843,
          103.764510533078,
          103.764264410293,
          103.800362825517,
          103.797875477439,
          103.90182514721,
          103.935016747249,
          103.805636386821,
          103.870004415152,
          103.898224315881,
          103.788230657145,
          103.863883249985,
          103.895609494855,
          103.829626834637,
          103.939726160039,
          103.837031803823,
          103.879417030673,
          103.843177616296,
          103.721519868629,
          103.944624481151,
          103.797625756738,
          103.843166992138,
          103.742891623681,
          103.818641695106,
          103.904260878989,
          103.807626838954,
          103.831189303546,
          103.872090241567,
          103.888489618777,
          103.908252830309,
          103.792773765463,
          103.794862936127,
          103.890081064953,
          103.885977616903,
          103.88394058022,
          103.826013285715,
          103.808127999318,
          103.839945947186,
          103.731579747132,
          103.737781231485,
          103.697404254467,
          103.71844754363,
          103.884130183315,
          103.818338919994,
          103.800696448529,
          103.906338526157,
          103.915761950557,
          103.777203165702,
          103.844827863123,
          103.802903901116,
          103.842578750107,
          103.93056047823,
          103.941132372619,
          103.839562687644,
          103.863891012338,
          103.885833217727,
          103.791402660553,
          103.951543034782,
          103.854211645499,
          103.818402623449,
          103.828994204342,
          103.866737484646,
          103.807943567416,
          103.82211725658,
          103.832348785334,
          103.84473162196,
          103.851999137527,
          103.849513484035,
          103.852941556275,
          103.857036007166,
          103.854395279214,
          103.871620273635,
          103.845818885585,
          103.759166093858,
          103.759751321019,
          103.855137696535,
          103.85406806286,
          103.844747581861,
          103.828537609942
         ],
         "marker": {
          "color": "red",
          "size": 10
         },
         "mode": "markers",
         "name": "",
         "showlegend": false,
         "subplot": "mapbox",
         "type": "scattermapbox"
        }
       ],
       "layout": {
        "height": 600,
        "legend": {
         "tracegroupgap": 0
        },
        "mapbox": {
         "center": {
          "lat": 1.3299504980527226,
          "lon": 103.84416276474052
         },
         "domain": {
          "x": [
           0,
           1
          ],
          "y": [
           0,
           1
          ]
         },
         "style": "open-street-map",
         "zoom": 10
        },
        "margin": {
         "t": 60
        },
        "template": {
         "data": {
          "bar": [
           {
            "error_x": {
             "color": "#2a3f5f"
            },
            "error_y": {
             "color": "#2a3f5f"
            },
            "marker": {
             "line": {
              "color": "#E5ECF6",
              "width": 0.5
             },
             "pattern": {
              "fillmode": "overlay",
              "size": 10,
              "solidity": 0.2
             }
            },
            "type": "bar"
           }
          ],
          "barpolar": [
           {
            "marker": {
             "line": {
              "color": "#E5ECF6",
              "width": 0.5
             },
             "pattern": {
              "fillmode": "overlay",
              "size": 10,
              "solidity": 0.2
             }
            },
            "type": "barpolar"
           }
          ],
          "carpet": [
           {
            "aaxis": {
             "endlinecolor": "#2a3f5f",
             "gridcolor": "white",
             "linecolor": "white",
             "minorgridcolor": "white",
             "startlinecolor": "#2a3f5f"
            },
            "baxis": {
             "endlinecolor": "#2a3f5f",
             "gridcolor": "white",
             "linecolor": "white",
             "minorgridcolor": "white",
             "startlinecolor": "#2a3f5f"
            },
            "type": "carpet"
           }
          ],
          "choropleth": [
           {
            "colorbar": {
             "outlinewidth": 0,
             "ticks": ""
            },
            "type": "choropleth"
           }
          ],
          "contour": [
           {
            "colorbar": {
             "outlinewidth": 0,
             "ticks": ""
            },
            "colorscale": [
             [
              0,
              "#0d0887"
             ],
             [
              0.1111111111111111,
              "#46039f"
             ],
             [
              0.2222222222222222,
              "#7201a8"
             ],
             [
              0.3333333333333333,
              "#9c179e"
             ],
             [
              0.4444444444444444,
              "#bd3786"
             ],
             [
              0.5555555555555556,
              "#d8576b"
             ],
             [
              0.6666666666666666,
              "#ed7953"
             ],
             [
              0.7777777777777778,
              "#fb9f3a"
             ],
             [
              0.8888888888888888,
              "#fdca26"
             ],
             [
              1,
              "#f0f921"
             ]
            ],
            "type": "contour"
           }
          ],
          "contourcarpet": [
           {
            "colorbar": {
             "outlinewidth": 0,
             "ticks": ""
            },
            "type": "contourcarpet"
           }
          ],
          "heatmap": [
           {
            "colorbar": {
             "outlinewidth": 0,
             "ticks": ""
            },
            "colorscale": [
             [
              0,
              "#0d0887"
             ],
             [
              0.1111111111111111,
              "#46039f"
             ],
             [
              0.2222222222222222,
              "#7201a8"
             ],
             [
              0.3333333333333333,
              "#9c179e"
             ],
             [
              0.4444444444444444,
              "#bd3786"
             ],
             [
              0.5555555555555556,
              "#d8576b"
             ],
             [
              0.6666666666666666,
              "#ed7953"
             ],
             [
              0.7777777777777778,
              "#fb9f3a"
             ],
             [
              0.8888888888888888,
              "#fdca26"
             ],
             [
              1,
              "#f0f921"
             ]
            ],
            "type": "heatmap"
           }
          ],
          "heatmapgl": [
           {
            "colorbar": {
             "outlinewidth": 0,
             "ticks": ""
            },
            "colorscale": [
             [
              0,
              "#0d0887"
             ],
             [
              0.1111111111111111,
              "#46039f"
             ],
             [
              0.2222222222222222,
              "#7201a8"
             ],
             [
              0.3333333333333333,
              "#9c179e"
             ],
             [
              0.4444444444444444,
              "#bd3786"
             ],
             [
              0.5555555555555556,
              "#d8576b"
             ],
             [
              0.6666666666666666,
              "#ed7953"
             ],
             [
              0.7777777777777778,
              "#fb9f3a"
             ],
             [
              0.8888888888888888,
              "#fdca26"
             ],
             [
              1,
              "#f0f921"
             ]
            ],
            "type": "heatmapgl"
           }
          ],
          "histogram": [
           {
            "marker": {
             "pattern": {
              "fillmode": "overlay",
              "size": 10,
              "solidity": 0.2
             }
            },
            "type": "histogram"
           }
          ],
          "histogram2d": [
           {
            "colorbar": {
             "outlinewidth": 0,
             "ticks": ""
            },
            "colorscale": [
             [
              0,
              "#0d0887"
             ],
             [
              0.1111111111111111,
              "#46039f"
             ],
             [
              0.2222222222222222,
              "#7201a8"
             ],
             [
              0.3333333333333333,
              "#9c179e"
             ],
             [
              0.4444444444444444,
              "#bd3786"
             ],
             [
              0.5555555555555556,
              "#d8576b"
             ],
             [
              0.6666666666666666,
              "#ed7953"
             ],
             [
              0.7777777777777778,
              "#fb9f3a"
             ],
             [
              0.8888888888888888,
              "#fdca26"
             ],
             [
              1,
              "#f0f921"
             ]
            ],
            "type": "histogram2d"
           }
          ],
          "histogram2dcontour": [
           {
            "colorbar": {
             "outlinewidth": 0,
             "ticks": ""
            },
            "colorscale": [
             [
              0,
              "#0d0887"
             ],
             [
              0.1111111111111111,
              "#46039f"
             ],
             [
              0.2222222222222222,
              "#7201a8"
             ],
             [
              0.3333333333333333,
              "#9c179e"
             ],
             [
              0.4444444444444444,
              "#bd3786"
             ],
             [
              0.5555555555555556,
              "#d8576b"
             ],
             [
              0.6666666666666666,
              "#ed7953"
             ],
             [
              0.7777777777777778,
              "#fb9f3a"
             ],
             [
              0.8888888888888888,
              "#fdca26"
             ],
             [
              1,
              "#f0f921"
             ]
            ],
            "type": "histogram2dcontour"
           }
          ],
          "mesh3d": [
           {
            "colorbar": {
             "outlinewidth": 0,
             "ticks": ""
            },
            "type": "mesh3d"
           }
          ],
          "parcoords": [
           {
            "line": {
             "colorbar": {
              "outlinewidth": 0,
              "ticks": ""
             }
            },
            "type": "parcoords"
           }
          ],
          "pie": [
           {
            "automargin": true,
            "type": "pie"
           }
          ],
          "scatter": [
           {
            "fillpattern": {
             "fillmode": "overlay",
             "size": 10,
             "solidity": 0.2
            },
            "type": "scatter"
           }
          ],
          "scatter3d": [
           {
            "line": {
             "colorbar": {
              "outlinewidth": 0,
              "ticks": ""
             }
            },
            "marker": {
             "colorbar": {
              "outlinewidth": 0,
              "ticks": ""
             }
            },
            "type": "scatter3d"
           }
          ],
          "scattercarpet": [
           {
            "marker": {
             "colorbar": {
              "outlinewidth": 0,
              "ticks": ""
             }
            },
            "type": "scattercarpet"
           }
          ],
          "scattergeo": [
           {
            "marker": {
             "colorbar": {
              "outlinewidth": 0,
              "ticks": ""
             }
            },
            "type": "scattergeo"
           }
          ],
          "scattergl": [
           {
            "marker": {
             "colorbar": {
              "outlinewidth": 0,
              "ticks": ""
             }
            },
            "type": "scattergl"
           }
          ],
          "scattermapbox": [
           {
            "marker": {
             "colorbar": {
              "outlinewidth": 0,
              "ticks": ""
             }
            },
            "type": "scattermapbox"
           }
          ],
          "scatterpolar": [
           {
            "marker": {
             "colorbar": {
              "outlinewidth": 0,
              "ticks": ""
             }
            },
            "type": "scatterpolar"
           }
          ],
          "scatterpolargl": [
           {
            "marker": {
             "colorbar": {
              "outlinewidth": 0,
              "ticks": ""
             }
            },
            "type": "scatterpolargl"
           }
          ],
          "scatterternary": [
           {
            "marker": {
             "colorbar": {
              "outlinewidth": 0,
              "ticks": ""
             }
            },
            "type": "scatterternary"
           }
          ],
          "surface": [
           {
            "colorbar": {
             "outlinewidth": 0,
             "ticks": ""
            },
            "colorscale": [
             [
              0,
              "#0d0887"
             ],
             [
              0.1111111111111111,
              "#46039f"
             ],
             [
              0.2222222222222222,
              "#7201a8"
             ],
             [
              0.3333333333333333,
              "#9c179e"
             ],
             [
              0.4444444444444444,
              "#bd3786"
             ],
             [
              0.5555555555555556,
              "#d8576b"
             ],
             [
              0.6666666666666666,
              "#ed7953"
             ],
             [
              0.7777777777777778,
              "#fb9f3a"
             ],
             [
              0.8888888888888888,
              "#fdca26"
             ],
             [
              1,
              "#f0f921"
             ]
            ],
            "type": "surface"
           }
          ],
          "table": [
           {
            "cells": {
             "fill": {
              "color": "#EBF0F8"
             },
             "line": {
              "color": "white"
             }
            },
            "header": {
             "fill": {
              "color": "#C8D4E3"
             },
             "line": {
              "color": "white"
             }
            },
            "type": "table"
           }
          ]
         },
         "layout": {
          "annotationdefaults": {
           "arrowcolor": "#2a3f5f",
           "arrowhead": 0,
           "arrowwidth": 1
          },
          "autotypenumbers": "strict",
          "coloraxis": {
           "colorbar": {
            "outlinewidth": 0,
            "ticks": ""
           }
          },
          "colorscale": {
           "diverging": [
            [
             0,
             "#8e0152"
            ],
            [
             0.1,
             "#c51b7d"
            ],
            [
             0.2,
             "#de77ae"
            ],
            [
             0.3,
             "#f1b6da"
            ],
            [
             0.4,
             "#fde0ef"
            ],
            [
             0.5,
             "#f7f7f7"
            ],
            [
             0.6,
             "#e6f5d0"
            ],
            [
             0.7,
             "#b8e186"
            ],
            [
             0.8,
             "#7fbc41"
            ],
            [
             0.9,
             "#4d9221"
            ],
            [
             1,
             "#276419"
            ]
           ],
           "sequential": [
            [
             0,
             "#0d0887"
            ],
            [
             0.1111111111111111,
             "#46039f"
            ],
            [
             0.2222222222222222,
             "#7201a8"
            ],
            [
             0.3333333333333333,
             "#9c179e"
            ],
            [
             0.4444444444444444,
             "#bd3786"
            ],
            [
             0.5555555555555556,
             "#d8576b"
            ],
            [
             0.6666666666666666,
             "#ed7953"
            ],
            [
             0.7777777777777778,
             "#fb9f3a"
            ],
            [
             0.8888888888888888,
             "#fdca26"
            ],
            [
             1,
             "#f0f921"
            ]
           ],
           "sequentialminus": [
            [
             0,
             "#0d0887"
            ],
            [
             0.1111111111111111,
             "#46039f"
            ],
            [
             0.2222222222222222,
             "#7201a8"
            ],
            [
             0.3333333333333333,
             "#9c179e"
            ],
            [
             0.4444444444444444,
             "#bd3786"
            ],
            [
             0.5555555555555556,
             "#d8576b"
            ],
            [
             0.6666666666666666,
             "#ed7953"
            ],
            [
             0.7777777777777778,
             "#fb9f3a"
            ],
            [
             0.8888888888888888,
             "#fdca26"
            ],
            [
             1,
             "#f0f921"
            ]
           ]
          },
          "colorway": [
           "#636efa",
           "#EF553B",
           "#00cc96",
           "#ab63fa",
           "#FFA15A",
           "#19d3f3",
           "#FF6692",
           "#B6E880",
           "#FF97FF",
           "#FECB52"
          ],
          "font": {
           "color": "#2a3f5f"
          },
          "geo": {
           "bgcolor": "white",
           "lakecolor": "white",
           "landcolor": "#E5ECF6",
           "showlakes": true,
           "showland": true,
           "subunitcolor": "white"
          },
          "hoverlabel": {
           "align": "left"
          },
          "hovermode": "closest",
          "mapbox": {
           "style": "light"
          },
          "paper_bgcolor": "white",
          "plot_bgcolor": "#E5ECF6",
          "polar": {
           "angularaxis": {
            "gridcolor": "white",
            "linecolor": "white",
            "ticks": ""
           },
           "bgcolor": "#E5ECF6",
           "radialaxis": {
            "gridcolor": "white",
            "linecolor": "white",
            "ticks": ""
           }
          },
          "scene": {
           "xaxis": {
            "backgroundcolor": "#E5ECF6",
            "gridcolor": "white",
            "gridwidth": 2,
            "linecolor": "white",
            "showbackground": true,
            "ticks": "",
            "zerolinecolor": "white"
           },
           "yaxis": {
            "backgroundcolor": "#E5ECF6",
            "gridcolor": "white",
            "gridwidth": 2,
            "linecolor": "white",
            "showbackground": true,
            "ticks": "",
            "zerolinecolor": "white"
           },
           "zaxis": {
            "backgroundcolor": "#E5ECF6",
            "gridcolor": "white",
            "gridwidth": 2,
            "linecolor": "white",
            "showbackground": true,
            "ticks": "",
            "zerolinecolor": "white"
           }
          },
          "shapedefaults": {
           "line": {
            "color": "#2a3f5f"
           }
          },
          "ternary": {
           "aaxis": {
            "gridcolor": "white",
            "linecolor": "white",
            "ticks": ""
           },
           "baxis": {
            "gridcolor": "white",
            "linecolor": "white",
            "ticks": ""
           },
           "bgcolor": "#E5ECF6",
           "caxis": {
            "gridcolor": "white",
            "linecolor": "white",
            "ticks": ""
           }
          },
          "title": {
           "x": 0.05
          },
          "xaxis": {
           "automargin": true,
           "gridcolor": "white",
           "linecolor": "white",
           "ticks": "",
           "title": {
            "standoff": 15
           },
           "zerolinecolor": "white",
           "zerolinewidth": 2
          },
          "yaxis": {
           "automargin": true,
           "gridcolor": "white",
           "linecolor": "white",
           "ticks": "",
           "title": {
            "standoff": 15
           },
           "zerolinecolor": "white",
           "zerolinewidth": 2
          }
         }
        }
       }
      }
     },
     "metadata": {},
     "output_type": "display_data"
    }
   ],
   "source": [
    "fig = px.scatter_mapbox(\n",
    "    final_df,\n",
    "    lat='lat', \n",
    "    lon='lon', \n",
    "    custom_data=['NAME', 'ADDRESSSTREETNAME', 'ADDRESSPOSTALCODE'],\n",
    "    zoom=10,\n",
    "    height=600\n",
    ")\n",
    "\n",
    "fig.update_traces(\n",
    "    marker=dict(\n",
    "        size=10,                   # Marker size\n",
    "        color=\"red\",         # Light blue fill color\n",
    "    )\n",
    ")\n",
    "\n",
    "fig.update_traces(\n",
    "    hovertemplate=\"\"\"\n",
    "    <b>Name:</b> %{customdata[0]} <br>\n",
    "    <b>Address:</b> %{customdata[1]} <br>\n",
    "    <b>Postal Code:</b> %{customdata[2]} <br> \n",
    "    <extra></extra>\n",
    "    \"\"\"\n",
    ")\n",
    "\n",
    "# Use open street map as background\n",
    "fig.update_layout(mapbox_style='open-street-map')\n",
    "\n",
    "fig.show()"
   ]
  }
 ],
 "metadata": {
  "kernelspec": {
   "display_name": "base_env",
   "language": "python",
   "name": "python3"
  },
  "language_info": {
   "codemirror_mode": {
    "name": "ipython",
    "version": 3
   },
   "file_extension": ".py",
   "mimetype": "text/x-python",
   "name": "python",
   "nbconvert_exporter": "python",
   "pygments_lexer": "ipython3",
   "version": "3.10.12"
  }
 },
 "nbformat": 4,
 "nbformat_minor": 2
}
